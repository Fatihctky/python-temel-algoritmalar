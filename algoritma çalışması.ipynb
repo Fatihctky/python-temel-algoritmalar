{
 "cells": [
  {
   "cell_type": "markdown",
   "id": "a03521ba-1dad-495e-a25b-35b08141b082",
   "metadata": {},
   "source": [
    "Kullanıcıdan aldığınız bir sayının mükemmel olup olmadığını bulmaya çalışın.\n",
    "\n",
    "Bir sayının kendi hariç bölenlerinin toplamı kendine eşitse bu sayıya \"mükemmel sayı\" denir. Örnek olarak, 6 mükemmel bir sayıdır. (1 + 2 + 3 = 6)"
   ]
  },
  {
   "cell_type": "code",
   "execution_count": 2,
   "id": "d054f5f0-3f34-464e-b7bb-011e89243476",
   "metadata": {},
   "outputs": [
    {
     "name": "stdin",
     "output_type": "stream",
     "text": [
      "Sayı: 45\n"
     ]
    },
    {
     "name": "stdout",
     "output_type": "stream",
     "text": [
      "45 mükemmel bir sayı değildir.\n"
     ]
    }
   ],
   "source": [
    "sayı = int(input(\"Sayı:\"))\n",
    "\n",
    "i = 1\n",
    "toplam = 0\n",
    "while (i < sayı):\n",
    "    if (sayı % i == 0): # i sayıya tam bölünüyorsa\n",
    "        toplam += i   # toplam değişkenine ekle\n",
    "    i += 1\n",
    "\n",
    "if (toplam == sayı):\n",
    "    print(sayı,\"mükemmel bir sayıdır.\")\n",
    "else:\n",
    "    print(sayı,\"mükemmel bir sayı değildir.\")"
   ]
  },
  {
   "cell_type": "code",
   "execution_count": null,
   "id": "72935c96-527f-429f-b9e3-6b642d0b9581",
   "metadata": {},
   "outputs": [],
   "source": []
  },
  {
   "cell_type": "markdown",
   "id": "2c2d90c9-6da0-4387-a437-8fde0c1529c5",
   "metadata": {},
   "source": [
    "Kullanıcıdan aldığınız bir sayının \"Armstrong\" sayısı olup olmadığını bulmaya çalışın.\n",
    "\n",
    "Örnek olarak, Bir sayı eğer 4 basamaklı ise ve oluşturan rakamlardan herbirinin 4. kuvvetinin toplamı( 3 basamaklı sayılar için 3.kuvveti ) o sayıya eşitse bu sayıya \"Armstrong\" sayısı denir.\n",
    "\n",
    "Örnek olarak : 1634 = 1^4 + 6^4 + 3^4 + 4^4"
   ]
  },
  {
   "cell_type": "code",
   "execution_count": 5,
   "id": "823d0a41-33c9-491b-ad9a-ae4ad2c77b94",
   "metadata": {},
   "outputs": [
    {
     "name": "stdin",
     "output_type": "stream",
     "text": [
      "Sayı: 519\n"
     ]
    },
    {
     "name": "stdout",
     "output_type": "stream",
     "text": [
      "519 bir armstrong sayısı değildir.\n"
     ]
    }
   ],
   "source": [
    "sayı = input(\"Sayı:\")\n",
    "basamak_sayisi = len(sayı)\n",
    "sayı = int(sayı)\n",
    "basamak = 0\n",
    "toplam = 0\n",
    "\n",
    "gecici_sayı = sayı\n",
    "\n",
    "while (gecici_sayı > 0):\n",
    "    \n",
    "    basamak = gecici_sayı % 10  # Son basamağı al\n",
    "    \n",
    "    toplam += basamak ** basamak_sayisi  # Basamağın üssünü al ve toplama ekle\n",
    "    \n",
    "    gecici_sayı //= 10    # Sayıyı bir basamak küçült\n",
    "    \n",
    "\n",
    "if (toplam == sayı):\n",
    "    print(sayı,\"bir armstrong sayısıdır.\")\n",
    "else:\n",
    "    print(sayı,\"bir armstrong sayısı değildir.\")\n",
    "    "
   ]
  },
  {
   "cell_type": "code",
   "execution_count": null,
   "id": "40b4e91c-251d-41c8-a612-d49e0519ea6e",
   "metadata": {},
   "outputs": [],
   "source": []
  },
  {
   "cell_type": "markdown",
   "id": "98b7cf31-6049-4005-b3db-a261c0406ea4",
   "metadata": {},
   "source": [
    "1'den 10'kadar olan sayılarla ekrana çarpım tablosu bastırmaya çalışın.\n",
    "\n",
    "*İpucu: İç içe 2 tane for döngüsü kullanın. Aynı zamanda sayıları range() fonksiyonunu kullanarak elde edin.*"
   ]
  },
  {
   "cell_type": "code",
   "execution_count": 8,
   "id": "a0ce1b45-53a5-4894-a59a-3d060e105494",
   "metadata": {
    "collapsed": true,
    "jupyter": {
     "outputs_hidden": true
    }
   },
   "outputs": [
    {
     "name": "stdout",
     "output_type": "stream",
     "text": [
      "*************************************************\n",
      "1 x 1 = 1\n",
      "1 x 2 = 2\n",
      "1 x 3 = 3\n",
      "1 x 4 = 4\n",
      "1 x 5 = 5\n",
      "1 x 6 = 6\n",
      "1 x 7 = 7\n",
      "1 x 8 = 8\n",
      "1 x 9 = 9\n",
      "1 x 10 = 10\n",
      "*************************************************\n",
      "2 x 1 = 2\n",
      "2 x 2 = 4\n",
      "2 x 3 = 6\n",
      "2 x 4 = 8\n",
      "2 x 5 = 10\n",
      "2 x 6 = 12\n",
      "2 x 7 = 14\n",
      "2 x 8 = 16\n",
      "2 x 9 = 18\n",
      "2 x 10 = 20\n",
      "*************************************************\n",
      "3 x 1 = 3\n",
      "3 x 2 = 6\n",
      "3 x 3 = 9\n",
      "3 x 4 = 12\n",
      "3 x 5 = 15\n",
      "3 x 6 = 18\n",
      "3 x 7 = 21\n",
      "3 x 8 = 24\n",
      "3 x 9 = 27\n",
      "3 x 10 = 30\n",
      "*************************************************\n",
      "4 x 1 = 4\n",
      "4 x 2 = 8\n",
      "4 x 3 = 12\n",
      "4 x 4 = 16\n",
      "4 x 5 = 20\n",
      "4 x 6 = 24\n",
      "4 x 7 = 28\n",
      "4 x 8 = 32\n",
      "4 x 9 = 36\n",
      "4 x 10 = 40\n",
      "*************************************************\n",
      "5 x 1 = 5\n",
      "5 x 2 = 10\n",
      "5 x 3 = 15\n",
      "5 x 4 = 20\n",
      "5 x 5 = 25\n",
      "5 x 6 = 30\n",
      "5 x 7 = 35\n",
      "5 x 8 = 40\n",
      "5 x 9 = 45\n",
      "5 x 10 = 50\n",
      "*************************************************\n",
      "6 x 1 = 6\n",
      "6 x 2 = 12\n",
      "6 x 3 = 18\n",
      "6 x 4 = 24\n",
      "6 x 5 = 30\n",
      "6 x 6 = 36\n",
      "6 x 7 = 42\n",
      "6 x 8 = 48\n",
      "6 x 9 = 54\n",
      "6 x 10 = 60\n",
      "*************************************************\n",
      "7 x 1 = 7\n",
      "7 x 2 = 14\n",
      "7 x 3 = 21\n",
      "7 x 4 = 28\n",
      "7 x 5 = 35\n",
      "7 x 6 = 42\n",
      "7 x 7 = 49\n",
      "7 x 8 = 56\n",
      "7 x 9 = 63\n",
      "7 x 10 = 70\n",
      "*************************************************\n",
      "8 x 1 = 8\n",
      "8 x 2 = 16\n",
      "8 x 3 = 24\n",
      "8 x 4 = 32\n",
      "8 x 5 = 40\n",
      "8 x 6 = 48\n",
      "8 x 7 = 56\n",
      "8 x 8 = 64\n",
      "8 x 9 = 72\n",
      "8 x 10 = 80\n",
      "*************************************************\n",
      "9 x 1 = 9\n",
      "9 x 2 = 18\n",
      "9 x 3 = 27\n",
      "9 x 4 = 36\n",
      "9 x 5 = 45\n",
      "9 x 6 = 54\n",
      "9 x 7 = 63\n",
      "9 x 8 = 72\n",
      "9 x 9 = 81\n",
      "9 x 10 = 90\n",
      "*************************************************\n",
      "10 x 1 = 10\n",
      "10 x 2 = 20\n",
      "10 x 3 = 30\n",
      "10 x 4 = 40\n",
      "10 x 5 = 50\n",
      "10 x 6 = 60\n",
      "10 x 7 = 70\n",
      "10 x 8 = 80\n",
      "10 x 9 = 90\n",
      "10 x 10 = 100\n"
     ]
    }
   ],
   "source": [
    "for i in range(1,11):\n",
    "    print(\"*************************************************\")\n",
    "    for j in range(1,11):\n",
    "        \n",
    "        print(\"{} x {} = {}\".format(i,j,i*j))"
   ]
  },
  {
   "cell_type": "code",
   "execution_count": null,
   "id": "269c29f7-33e7-471c-8a0e-7fabe9d66b2b",
   "metadata": {},
   "outputs": [],
   "source": []
  },
  {
   "cell_type": "markdown",
   "id": "a5e65880-3025-4730-b8a1-6ee0e454a735",
   "metadata": {},
   "source": [
    "Her bir while döngüsünde kullanıcıdan bir sayı alın ve kullanıcının girdiği sayıları \"toplam\" isimli bir değişkene ekleyin. Kullanıcı \"q\" tuşuna bastığı zaman döngüyü sonlandırın ve ekrana \"toplam değişkenini\" bastırın.\n",
    "\n",
    "*İpucu : while döngüsünü sonsuz koşulla başlatın ve kullanıcı q'ya basarsa döngüyü break ile sonlandırın.*"
   ]
  },
  {
   "cell_type": "code",
   "execution_count": 11,
   "id": "c07c506d-4184-43ad-8e64-0181dfa7f2dd",
   "metadata": {
    "collapsed": true,
    "jupyter": {
     "outputs_hidden": true
    }
   },
   "outputs": [
    {
     "name": "stdin",
     "output_type": "stream",
     "text": [
      "Sayı: 85\n",
      "Sayı: 45\n",
      "Sayı: 19\n",
      "Sayı: 19\n",
      "Sayı: q\n"
     ]
    },
    {
     "name": "stdout",
     "output_type": "stream",
     "text": [
      "Girdiğiniz Sayıların Toplamı: 168\n"
     ]
    }
   ],
   "source": [
    "toplam = 0\n",
    "\n",
    "while True:\n",
    "    \n",
    "    sayı = input(\"Sayı:\")\n",
    "    \n",
    "    if (sayı == \"q\"):\n",
    "        break\n",
    "    sayı = int(sayı)\n",
    "    \n",
    "    toplam += sayı\n",
    "    \n",
    "print(\"Girdiğiniz Sayıların Toplamı:\",toplam)"
   ]
  },
  {
   "cell_type": "code",
   "execution_count": null,
   "id": "5d916d56-88de-4bbc-872b-c6d055d6f48e",
   "metadata": {},
   "outputs": [],
   "source": []
  },
  {
   "cell_type": "markdown",
   "id": "e9a4aaf6-218d-41a5-9cd2-c81e8f733770",
   "metadata": {},
   "source": [
    "1'den 100'e kadar olan sayılardan sadece 3'e bölünen sayıları ekrana bastırın. Bu işlemi *continue* ile yapmaya çalışın."
   ]
  },
  {
   "cell_type": "code",
   "execution_count": null,
   "id": "ccdf42aa-7884-4e18-bc32-6325a8696dfb",
   "metadata": {
    "collapsed": true,
    "jupyter": {
     "outputs_hidden": true
    }
   },
   "outputs": [],
   "source": [
    "for i in range(1,101):\n",
    "    \n",
    "    if (i % 3 != 0):\n",
    "        continue  # 3'e bölünmeyenleri atla\n",
    "    print(i)\n"
   ]
  },
  {
   "cell_type": "code",
   "execution_count": null,
   "id": "5b2408f7-c1e7-4de4-975c-87087d89c1d7",
   "metadata": {},
   "outputs": [],
   "source": []
  },
  {
   "cell_type": "markdown",
   "id": "222e2429-fc13-4df3-971b-2dc72043bb3c",
   "metadata": {},
   "source": [
    "list comprehension kullanarak 1'den 100'e kadar olan sayılardan sadece çift sayıları bir listeye atmayı yapmayı çalışın."
   ]
  },
  {
   "cell_type": "code",
   "execution_count": 20,
   "id": "415d5039-555e-4496-b2a2-21a4261215cd",
   "metadata": {},
   "outputs": [
    {
     "name": "stdout",
     "output_type": "stream",
     "text": [
      "[2, 4, 6, 8, 10, 12, 14, 16, 18, 20, 22, 24, 26, 28, 30, 32, 34, 36, 38, 40, 42, 44, 46, 48, 50, 52, 54, 56, 58, 60, 62, 64, 66, 68, 70, 72, 74, 76, 78, 80, 82, 84, 86, 88, 90, 92, 94, 96, 98, 100]\n"
     ]
    }
   ],
   "source": [
    "liste = [x for x in range(1,101) if x % 2 == 0]  #Sadece çift olanlar\n",
    "print(liste)"
   ]
  },
  {
   "cell_type": "code",
   "execution_count": null,
   "id": "fbca769f-e74b-4aa6-b58d-4f2b33595f91",
   "metadata": {},
   "outputs": [],
   "source": []
  },
  {
   "cell_type": "markdown",
   "id": "66ee22dc-483f-4585-aa3b-1f1e63a905cd",
   "metadata": {},
   "source": [
    "Kullanıcıdan 2 tane sayı alarak bu sayıların en büyük ortak bölenini (EBOB) dönen bir tane fonksiyon yazın."
   ]
  },
  {
   "cell_type": "code",
   "execution_count": null,
   "id": "ccc629c9-40ad-4176-93bc-ddaefb0e47d9",
   "metadata": {},
   "outputs": [],
   "source": [
    "def ebob_bulma(sayı1,sayı2):\n",
    "    \n",
    "    i = 1\n",
    "    ebob = 1\n",
    "    while (i <= sayı1 and i <= sayı2 ):\n",
    "\n",
    "        if ( not (sayı1 % i) and not (sayı2 % i)):\n",
    "            ebob = i\n",
    "        i += 1\n",
    "    return ebob\n",
    "sayı1 = int(input(\"Sayı-1:\"))\n",
    "sayı2 = int(input(\"Sayı-2:\"))\n",
    "\n",
    "print(\"Ebob:\",ebob_bulma(sayı1,sayı2))"
   ]
  },
  {
   "cell_type": "code",
   "execution_count": null,
   "id": "02f3dfe6-431a-4a9e-bf0f-94c6e4bdd04c",
   "metadata": {},
   "outputs": [],
   "source": []
  },
  {
   "cell_type": "markdown",
   "id": "aac67804-c4a1-49d5-b5ea-887d7a505249",
   "metadata": {},
   "source": [
    "Kullanıcıdan 2 tane sayı alarak bu sayıların en küçük ortak katlarını (EKOK) dönen bir tane fonksiyon yazın."
   ]
  },
  {
   "cell_type": "code",
   "execution_count": 26,
   "id": "4920f12d-89a4-42e7-9eb5-54e1c22b2f74",
   "metadata": {},
   "outputs": [
    {
     "name": "stdin",
     "output_type": "stream",
     "text": [
      "Sayı-1: 3\n",
      "Sayı-2: 5\n"
     ]
    },
    {
     "name": "stdout",
     "output_type": "stream",
     "text": [
      "Ekok: 15\n"
     ]
    }
   ],
   "source": [
    "def ekok_bulma(sayı1,sayı2):\n",
    "    \n",
    "    i = 2                                                                  # i, bölen olarak kullanılacak sayı\n",
    "    ekok = 1                                                               # EKOK başlangıç değeri 1 alınır\n",
    "    while True:                                                            # Sonsuz döngü, içinde sayılar bitene kadar döner\n",
    "        if (sayı1 % i == 0 and sayı2 % i == 0):   # Her iki sayıyı da i tam bölüyorsa\n",
    "            ekok *= i                             # Ortak böleni çarp EKOK’a ekle\n",
    "\n",
    "            sayı1 //= i                           # i'ye böldüğümüz için sayıyı güncelle\n",
    "            sayı2 //= i\n",
    "\n",
    "\n",
    "        elif (sayı1 % i ==  0 and sayı2 % i != 0):           # Sadece sayi1 i'ye bölünüyorsa\n",
    "            ekok *= i\n",
    "\n",
    "            sayı1 //= i\n",
    "\n",
    "\n",
    "        elif (sayı1 % i != 0 and sayı2 % i == 0):      # Sadece sayi2 i'ye bölünüyorsa\n",
    "            ekok *= i\n",
    "\n",
    "            sayı2 //= i\n",
    "        else:                                    # Hiçbiri bölünemiyorsa, i’yi artır\n",
    "            i += 1 \n",
    "        if (sayı1 == 1 and sayı2 == 1):      \n",
    "            break                                      # Her ikisi de 1 olduysa, işlem biter\n",
    "    return ekok\n",
    "\n",
    "sayı1 = int(input(\"Sayı-1:\"))\n",
    "sayı2 = int(input(\"Sayı-2:\"))\n",
    "\n",
    "print(\"Ekok:\",ekok_bulma(sayı1,sayı2))"
   ]
  },
  {
   "cell_type": "code",
   "execution_count": null,
   "id": "68918534-31b8-459a-ba46-e7eb28d1050d",
   "metadata": {},
   "outputs": [],
   "source": []
  },
  {
   "cell_type": "markdown",
   "id": "7609a786-3d75-44ed-8584-e5c96733b329",
   "metadata": {},
   "source": [
    "Kullanıcıdan 2 basamaklı bir sayı alın ve bu sayının okunuşunu bulan bir fonksiyon yazın.\n",
    "\n",
    "Örnek: 97 ---------> Doksan Yedi"
   ]
  },
  {
   "cell_type": "code",
   "execution_count": 29,
   "id": "c3bd5ac8-6bf6-40fd-ad7c-2c30bb4d0286",
   "metadata": {},
   "outputs": [
    {
     "name": "stdin",
     "output_type": "stream",
     "text": [
      "Sayı: 85\n"
     ]
    },
    {
     "name": "stdout",
     "output_type": "stream",
     "text": [
      "Seksen Beş\n"
     ]
    }
   ],
   "source": [
    "sayi1 = int(input(\"Sayı:\"))                      # Kullanıcıdan sayı alınır\n",
    "\n",
    "# Kullanıcıdan 2 basamaklı bir sayı alıp bu sayının Türkçe okunuşunu bulan program\n",
    "\n",
    "# Birler ve onlar basamağındaki sayıların Türkçe karşılıklarını tutan listeler\n",
    "birler = [\"\", \"Bir\", \"İki\", \"Üç\", \"Dört\", \"Beş\", \"Altı\", \"Yedi\", \"Sekiz\", \"Dokuz\"]\n",
    "onlar = [\"\", \"On\", \"Yirmi\", \"Otuz\", \"Kırk\", \"Elli\", \"Altmış\", \"Yetmiş\", \"Seksen\", \"Doksan\"]\n",
    "\n",
    "# Sayının okunuşunu döndüren fonksiyon\n",
    "def okunus(sayi):\n",
    "    birinci = sayi % 10        # Sayının birler basamağını alıyoruz\n",
    "    ikinci = sayi // 10        # Sayının onlar basamağını alıyoruz\n",
    "\n",
    "    return onlar[ikinci] + \" \" + birler[birinci]  # Örneğin: 97 -> \"Doksan Yedi\"\n",
    "\n",
    "\n",
    "# Okunuşu yazdırılır\n",
    "print(okunus(sayi1))\n"
   ]
  },
  {
   "cell_type": "code",
   "execution_count": null,
   "id": "5bddad4a-ce53-484d-82a4-d81d440d515c",
   "metadata": {},
   "outputs": [],
   "source": []
  },
  {
   "cell_type": "markdown",
   "id": "8d68261f-b798-4bf6-998d-2eaff4387730",
   "metadata": {},
   "source": [
    "1'den 100'e kadar olan sayılardan pisagor üçgeni oluşturanları ekrana yazdıran bir fonksiyon yazın.(a <= 100,b <= 100)"
   ]
  },
  {
   "cell_type": "code",
   "execution_count": null,
   "id": "02d806a6-34f0-44b9-b265-63366735af33",
   "metadata": {},
   "outputs": [],
   "source": [
    "# 1'den 100'e kadar olan sayı çiftlerinden Pisagor üçgeni oluşturanları bulan program\n",
    "\n",
    "def pisagor_bulma():\n",
    "    pisagor_listesi = list()     # Pisagor üçgenlerini tutacağımız listeyi oluşturuyoruz\n",
    "\n",
    "    for i in range(1, 101):      # a kenarı 1'den 100'e kadar\n",
    "        for j in range(1, 101):  # b kenarı 1'den 100'e kadar\n",
    "            c = (i ** 2 + j ** 2) ** 0.5  # Pisagor bağıntısı: a² + b² = c² -> c = √(a² + b²)\n",
    "\n",
    "            if (c == int(c)):           # Eğer c tam sayıysa bu bir Pisagor üçgenidir\n",
    "                pisagor_listesi.append((i, j, int(c)))  # Üçlü listeye eklenir\n",
    "\n",
    "    return pisagor_listesi  # Tüm Pisagor üçlüleri döndürülür\n",
    "\n",
    "# Fonksiyon çağrılarak sonuçlar ekrana yazdırılır\n",
    "for i in pisagor_bulma():\n",
    "    print(i)\n"
   ]
  },
  {
   "cell_type": "code",
   "execution_count": null,
   "id": "52aeb0dc-a34f-4eee-8f31-c8b383ff6ed0",
   "metadata": {},
   "outputs": [],
   "source": []
  },
  {
   "cell_type": "markdown",
   "id": "b91deff0-c0dc-401e-b0e5-5b997b8a290f",
   "metadata": {},
   "source": [
    "Math modülündeki hazır fonksiyonları kullanarak gelişmiş bir hesap makinesi geliştirmeye çalışın."
   ]
  },
  {
   "cell_type": "code",
   "execution_count": 35,
   "id": "18f065b0-3e07-48e4-8e83-5bc234f383d4",
   "metadata": {},
   "outputs": [],
   "source": [
    "# Gelişmiş hesap makinesi — math modülündeki fonksiyonları kullanarak\n",
    "\n",
    "import math  # Matematiksel işlemler için math modülünü içe aktarıyoruz\n",
    "\n",
    "def hesap_makinesi():\n",
    "    print(\"\\\\n--- Math Modülü ile Hesap Makinesi ---\")\n",
    "    print(\"1 - Karekök\")\n",
    "    print(\"2 - Üst alma\")\n",
    "    print(\"3 - Faktoriyel\")\n",
    "    print(\"4 - Sin, Cos, Tan\")\n",
    "    print(\"5 - Logaritma\")\n",
    "    print(\"q - Çıkış\")\n",
    "\n",
    "    while True:\n",
    "        secim = input(\"\\\\nBir işlem seçin: \")  # Kullanıcıdan işlem seçmesi istenir\n",
    "\n",
    "        if secim == \"q\":\n",
    "            print(\"Program sonlandırılıyor...\")\n",
    "            break\n",
    "\n",
    "        elif secim == \"1\":\n",
    "            sayi = float(input(\"Sayı: \"))\n",
    "            print(\"Karekök:\", math.sqrt(sayi))\n",
    "\n",
    "        elif secim == \"2\":\n",
    "            taban = float(input(\"Taban: \"))\n",
    "            us = float(input(\"Üst: \"))\n",
    "            print(\"Sonuç:\", math.pow(taban, us))\n",
    "\n",
    "        elif secim == \"3\":\n",
    "            n = int(input(\"Sayı: \"))\n",
    "            print(\"Faktoriyel:\", math.factorial(n))\n",
    "\n",
    "        elif secim == \"4\":\n",
    "            aci = float(input(\"Açı (radyan): \"))  # Trigonometrik işlemler için radyan cinsinden açı alınır\n",
    "            print(\"sin:\", math.sin(aci))\n",
    "            print(\"cos:\", math.cos(aci))\n",
    "            print(\"tan:\", math.tan(aci))\n",
    "\n",
    "        elif secim == \"5\":\n",
    "            sayi = float(input(\"Sayı: \"))\n",
    "            print(\"Log10:\", math.log10(sayi))  # 10 tabanında log\n",
    "            print(\"e tabanında log:\", math.log(sayi))  # e tabanında doğal log\n",
    "\n",
    "        else:\n",
    "            print(\"Geçersiz seçim!\")  # Tanımsız seçenek girildiğinde uyarı verilir\n"
   ]
  },
  {
   "cell_type": "code",
   "execution_count": null,
   "id": "31ad38b9-3a48-4938-a011-f4dd1812df9c",
   "metadata": {},
   "outputs": [],
   "source": []
  },
  {
   "cell_type": "markdown",
   "id": "35e610f4-9f38-4cfd-b864-7c0a6cf1dffe",
   "metadata": {},
   "source": [
    "Math modülünde kullandığınız fonksiyonları kendiniz de ayrı bir modüle (Python dosyasına) yazmaya çalışın ve bu yazdığınız modülü kullanarak gelişmiş bir hesap makinesi yazın."
   ]
  },
  {
   "cell_type": "code",
   "execution_count": null,
   "id": "9748fd76-71fe-40b8-a929-2131be77f216",
   "metadata": {
    "collapsed": true,
    "jupyter": {
     "outputs_hidden": true
    }
   },
   "outputs": [
    {
     "name": "stdout",
     "output_type": "stream",
     "text": [
      "\n",
      "--- Math Modülü ile Hesap Makinesi ---\n",
      "1 - Karekök\n",
      "2 - Üst alma\n",
      "3 - Faktoriyel\n",
      "4 - Sin, Cos, Tan\n",
      "5 - Logaritma\n",
      "q - Çıkış\n"
     ]
    },
    {
     "name": "stdin",
     "output_type": "stream",
     "text": [
      "\n",
      "Bir işlem seçin:  4\n",
      "Açı (radyan):  90\n"
     ]
    },
    {
     "name": "stdout",
     "output_type": "stream",
     "text": [
      "sin: 0.8939966636005579\n",
      "cos: -0.4480736161291701\n",
      "tan: -1.995200412208242\n"
     ]
    }
   ],
   "source": [
    "def karekok(sayi):\n",
    "    return sayi ** 0.5\n",
    "\n",
    "def us_al(taban, us):\n",
    "    return taban ** us\n",
    "\n",
    "def faktoriyel(n):\n",
    "    sonuc = 1\n",
    "    for i in range(2, n+1):\n",
    "        sonuc *= i\n",
    "    return sonuc\n",
    "\n",
    "def sin(x):\n",
    "    # Taylor serisiyle sade yaklaşım\n",
    "    from math import pi\n",
    "    x = x % (2*pi)\n",
    "    return x - (x**3)/6 + (x**5)/120 - (x**7)/5040\n",
    "\n",
    "# vs...\n",
    "\n",
    "\n",
    "# Yukarıdaki fonksiyonları custom_math.py olarak kaydettikten sonra burada çağırabiliriz:\n",
    "# from custom_math import karekok, us_al, faktoriyel, sin\n",
    "\n",
    "if __name__ == \"__main__\":\n",
    "    hesap_makinesi()"
   ]
  },
  {
   "cell_type": "code",
   "execution_count": null,
   "id": "fe16805d-e4a4-4ca8-acc5-1871b4fb4905",
   "metadata": {},
   "outputs": [],
   "source": []
  },
  {
   "cell_type": "markdown",
   "id": "d3157592-6679-41d3-8675-56dd22043ea2",
   "metadata": {},
   "source": [
    "Bir tane \"Bilgisayar\" sınıfı oluşturarak bu sınıfa metodlar ve özellikler ekleyin ve bu class'ı kullanmaya çalışın."
   ]
  },
  {
   "cell_type": "code",
   "execution_count": null,
   "id": "6a7a1d7e-dd58-4347-b5de-82ad36479e24",
   "metadata": {},
   "outputs": [],
   "source": [
    "class Bilgisayar:\n",
    "    def __init__(self, marka, ram, islemci):\n",
    "        self.marka = marka\n",
    "        self.ram = ram  # GB\n",
    "        self.islemci = islemci\n",
    "\n",
    "    def ac(self):\n",
    "        print(f\"{self.marka} bilgisayar açılıyor...\")\n",
    "\n",
    "    def kapat(self):\n",
    "        print(f\"{self.marka} bilgisayar kapatılıyor...\")\n",
    "\n",
    "    def __str__(self):\n",
    "        return f\"Marka: {self.marka} | RAM: {self.ram}GB | İŞlemci: {self.islemci}\"\n",
    "\n",
    "    def __len__(self):\n",
    "        return self.ram\n",
    "\n",
    "    def __eq__(self, other):\n",
    "        return self.ram == other.ram and self.islemci == other.islemci\n"
   ]
  },
  {
   "cell_type": "code",
   "execution_count": null,
   "id": "3a5a3c90-d184-4724-9c7e-2859b1e3f6d7",
   "metadata": {},
   "outputs": [],
   "source": []
  },
  {
   "cell_type": "markdown",
   "id": "a29935a3-862d-416b-821c-f02ef01a2595",
   "metadata": {},
   "source": [
    "Bu projede ise 4 tane sınıfı oluşturun.\n",
    "\n",
    "Hayvan Sınıfı ------> Bütün hayvanların ortak özelliklerinin toplandığı sınıf olacak.\n",
    "\n",
    "Köpek Sınıfı ------> Bu sınıf, hayvan sınıfından miras alan bir sınıf olacak. Ayrıca bu sınıfa köpeklere ait ek özellikler ve metodlar ekleyin.\n",
    "\n",
    "Kuş Sınıfı ------> Bu sınıf, hayvan sınıfından miras alan bir sınıf olacak. Ayrıca bu sınıfa kuşlara ait ek özellikler ve metodlar ekleyin.\n",
    "\n",
    "At Sınıfı ------> Bu sınıf, hayvan sınıfından miras alan bir sınıf olacak. Ayrıca bu sınıfa atlara ait ek özellikler ve metodlar ekleyin."
   ]
  },
  {
   "cell_type": "code",
   "execution_count": null,
   "id": "b9d4c29a-735a-48e3-8020-7e23b00fb3c6",
   "metadata": {},
   "outputs": [],
   "source": [
    "def bolge():\n",
    "    print(\"Hayvan Doğada yaşar\")\n",
    "\n",
    "class Hayvan:\n",
    "    def __init__(self, isim, yas):\n",
    "        self.isim = isim\n",
    "        self.yas = yas\n",
    "\n",
    "    def ses_cikar(self):\n",
    "        print(\"Ses çıkarıyor...\")\n",
    "\n",
    "class Kopek(Hayvan):\n",
    "    def __init__(self, isim, yas, tur):\n",
    "        super().__init__(isim, yas)\n",
    "        self.tur = tur\n",
    "\n",
    "    def havla(self):\n",
    "        print(f\"{self.isim} havlıyor!\")\n",
    "\n",
    "class Kus(Hayvan):\n",
    "    def __init__(self, isim, yas, kanat_uzunlugu):\n",
    "        super().__init__(isim, yas)\n",
    "        self.kanat_uzunlugu = kanat_uzunlugu\n",
    "\n",
    "    def uc(self):\n",
    "        print(f\"{self.isim} uçuyor!\")\n",
    "\n",
    "class At(Hayvan):\n",
    "    def __init__(self, isim, yas, cins):\n",
    "        super().__init__(isim, yas)\n",
    "        self.cins = cins\n",
    "\n",
    "    def kisneme(self):\n",
    "        print(f\"{self.isim} kışnıyor!\")\n",
    "\n",
    "# Test kodu\n",
    "if __name__ == \"__main__\":\n",
    "    print(\"=== Proje 1 ===\")\n",
    "    k = Kumanda()\n",
    "    k.tv_ac()\n",
    "    k.kanal_ekle(\"Show\")\n",
    "    print(k)\n",
    "\n",
    "    print(\"\\n=== Proje 2 ===\")\n",
    "    pc1 = Bilgisayar(\"Lenovo\", 16, \"i7\")\n",
    "    pc2 = Bilgisayar(\"HP\", 16, \"i7\")\n",
    "    print(pc1)\n",
    "    print(\"RAM:\", len(pc1))\n",
    "    print(\"Aynı mı?\", pc1 == pc2)\n",
    "\n",
    "    print(\"\\n=== Proje 3 ===\")\n",
    "    h = Hayvan(\"Genel\", 2)\n",
    "    k = Kopek(\"Karabaş\", 5, \"Sivas Kangal\")\n",
    "    kus = Kus(\"Serçe\", 1, 30)\n",
    "    at = At(\"Doruk\", 4, \"Arap\")\n",
    "\n",
    "    h.ses_cikar()\n",
    "    k.havla()\n",
    "    kus.uc()\n",
    "    at.kisneme()\n"
   ]
  },
  {
   "cell_type": "code",
   "execution_count": null,
   "id": "8f18f776-5cf7-41f3-8cbf-e1393b63a989",
   "metadata": {},
   "outputs": [],
   "source": []
  },
  {
   "cell_type": "markdown",
   "id": "9d17f93b-4d14-45d9-b0d3-464a008573b6",
   "metadata": {},
   "source": [
    "Elinizde stringlerin bulunduğu bir liste bulunduğunu düşünün.\n",
    "\n",
    "liste = [\"345\",\"sadas\",\"324a\",\"14\",\"kemal\"]\n",
    "\n",
    "Bu listenin içindeki stringlerden içinde sadece rakam bulunanları ekrana yazdırın. Bunu yaparken try,except bloklarını kullanmayı unutmayın."
   ]
  },
  {
   "cell_type": "code",
   "execution_count": null,
   "id": "35213170-e678-4e2f-b4f6-0a037ebbd36a",
   "metadata": {},
   "outputs": [],
   "source": [
    "liste = [\"345\",\"sadas\",\"324a\",\"14\",\"kemal\"]\n",
    "\n",
    "for eleman in liste:\n",
    "    \n",
    "    try: \n",
    "        eleman = int(eleman) # Eğer hata ile karşılaşırsak burası hata verecek ve print çalışmayacak.\n",
    "        print(eleman)\n",
    "    except:\n",
    "        pass # pass deyimi bir blokun hiçbir şey yapmadığı anlamına geliyor. Python'ın hata vermemesi için kullanabilirsiniz."
   ]
  },
  {
   "cell_type": "code",
   "execution_count": null,
   "id": "41197d3a-be01-4d02-a2a6-d9d0f8e7c433",
   "metadata": {},
   "outputs": [],
   "source": []
  },
  {
   "cell_type": "markdown",
   "id": "ae5e7844-bc74-41b6-8abe-78e7168de51e",
   "metadata": {},
   "source": [
    "Bir sayının çift olup olmadığını sorgulayan bir fonksiyon yazın. Bu fonksiyon, eğer sayı çift ise *return* ile bu değeri dönsün. Ancak sayı tek sayı ise fonksiyon *raise* ile *ValueError* hatası fırlatsın. Daha sonra, içinde çift ve tek sayılar bulunduran bir liste tanımlayın ve liste üzerinde gezinerek ekrana sadece çift sayıları bastırın."
   ]
  },
  {
   "cell_type": "code",
   "execution_count": null,
   "id": "a3535626-4309-4e73-9bc9-0557b2184f0a",
   "metadata": {},
   "outputs": [],
   "source": [
    "def çift_mi(sayı):\n",
    "    \n",
    "    if (sayı % 2 == 0):\n",
    "        return sayı\n",
    "    else:\n",
    "        raise ValueError\n",
    "liste = [34,2,1,3,33,100,61,1800]\n",
    "\n",
    "for i in liste:\n",
    "    try:\n",
    "        print(çift_mi(i))\n",
    "    except ValueError:\n",
    "        pass"
   ]
  },
  {
   "cell_type": "code",
   "execution_count": null,
   "id": "63965eb1-a4e7-4ad5-b4d3-08028929cea2",
   "metadata": {},
   "outputs": [],
   "source": []
  }
 ],
 "metadata": {
  "kernelspec": {
   "display_name": "Python [conda env:base] *",
   "language": "python",
   "name": "conda-base-py"
  },
  "language_info": {
   "codemirror_mode": {
    "name": "ipython",
    "version": 3
   },
   "file_extension": ".py",
   "mimetype": "text/x-python",
   "name": "python",
   "nbconvert_exporter": "python",
   "pygments_lexer": "ipython3",
   "version": "3.12.3"
  }
 },
 "nbformat": 4,
 "nbformat_minor": 5
}
